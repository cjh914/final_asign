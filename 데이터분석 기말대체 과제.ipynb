{
 "cells": [
  {
   "cell_type": "code",
   "execution_count": 8,
   "id": "eebfa0e2-a635-416a-9302-7cc7a44e23e0",
   "metadata": {},
   "outputs": [],
   "source": [
    "import pandas as pd\n",
    "import numpy"
   ]
  },
  {
   "cell_type": "markdown",
   "id": "de41fd90-e9a5-4a75-9e52-43dd1f6e1c23",
   "metadata": {},
   "source": [
    "# 1.과거 6개월 매출 추이는 어떠한가요?"
   ]
  },
  {
   "cell_type": "code",
   "execution_count": 10,
   "id": "45c768ee-94be-4bea-8666-e283dce18a95",
   "metadata": {},
   "outputs": [
    {
     "data": {
      "text/html": [
       "<div>\n",
       "<style scoped>\n",
       "    .dataframe tbody tr th:only-of-type {\n",
       "        vertical-align: middle;\n",
       "    }\n",
       "\n",
       "    .dataframe tbody tr th {\n",
       "        vertical-align: top;\n",
       "    }\n",
       "\n",
       "    .dataframe thead th {\n",
       "        text-align: right;\n",
       "    }\n",
       "</style>\n",
       "<table border=\"1\" class=\"dataframe\">\n",
       "  <thead>\n",
       "    <tr style=\"text-align: right;\">\n",
       "      <th></th>\n",
       "      <th>Unnamed: 0</th>\n",
       "      <th>Sep</th>\n",
       "      <th>Oct</th>\n",
       "      <th>Nov</th>\n",
       "      <th>Dec</th>\n",
       "      <th>Jan</th>\n",
       "      <th>Feb</th>\n",
       "    </tr>\n",
       "  </thead>\n",
       "  <tbody>\n",
       "    <tr>\n",
       "      <th>0</th>\n",
       "      <td>총매출</td>\n",
       "      <td>$5,280,000</td>\n",
       "      <td>$5,501,000</td>\n",
       "      <td>$5,469,000</td>\n",
       "      <td>$5,480,000</td>\n",
       "      <td>$5,533,000</td>\n",
       "      <td>$5,554,000</td>\n",
       "    </tr>\n",
       "    <tr>\n",
       "      <th>1</th>\n",
       "      <td>목표매출</td>\n",
       "      <td>$5,280,000</td>\n",
       "      <td>$5,500,000</td>\n",
       "      <td>$5,729,000</td>\n",
       "      <td>$5,968,000</td>\n",
       "      <td>$6,217,000</td>\n",
       "      <td>$6,476,000</td>\n",
       "    </tr>\n",
       "    <tr>\n",
       "      <th>2</th>\n",
       "      <td>광고비용</td>\n",
       "      <td>$1,056,000</td>\n",
       "      <td>$950,400</td>\n",
       "      <td>$739,200</td>\n",
       "      <td>$528,000</td>\n",
       "      <td>$316,800</td>\n",
       "      <td>$316,800</td>\n",
       "    </tr>\n",
       "    <tr>\n",
       "      <th>3</th>\n",
       "      <td>소셜네트워크비용</td>\n",
       "      <td>$0</td>\n",
       "      <td>$105,600</td>\n",
       "      <td>$316,800</td>\n",
       "      <td>$528,000</td>\n",
       "      <td>$739,200</td>\n",
       "      <td>$739,200</td>\n",
       "    </tr>\n",
       "    <tr>\n",
       "      <th>4</th>\n",
       "      <td>1온스별단가</td>\n",
       "      <td>$2.00</td>\n",
       "      <td>$2.00</td>\n",
       "      <td>$2.00</td>\n",
       "      <td>$1.90</td>\n",
       "      <td>$1.90</td>\n",
       "      <td>$1.90</td>\n",
       "    </tr>\n",
       "  </tbody>\n",
       "</table>\n",
       "</div>"
      ],
      "text/plain": [
       "  Unnamed: 0          Sep          Oct          Nov          Dec          Jan  \\\n",
       "0        총매출  $5,280,000   $5,501,000   $5,469,000   $5,480,000   $5,533,000    \n",
       "1       목표매출  $5,280,000   $5,500,000   $5,729,000   $5,968,000   $6,217,000    \n",
       "2       광고비용  $1,056,000     $950,400     $739,200     $528,000     $316,800    \n",
       "3   소셜네트워크비용          $0     $105,600     $316,800     $528,000     $739,200    \n",
       "4     1온스별단가       $2.00        $2.00        $2.00        $1.90        $1.90    \n",
       "\n",
       "           Feb  \n",
       "0  $5,554,000   \n",
       "1  $6,476,000   \n",
       "2    $316,800   \n",
       "3    $739,200   \n",
       "4       $1.90   "
      ]
     },
     "execution_count": 10,
     "metadata": {},
     "output_type": "execute_result"
    }
   ],
   "source": [
    "df = pd.read_csv(\"A회사_보습제_매출데이터_v1.csv\", encoding=\"cp949\")\n",
    "df"
   ]
  },
  {
   "cell_type": "markdown",
   "id": "f50e68a5-7d0b-4519-804b-0fb946bf52b3",
   "metadata": {},
   "source": [
    "과거 6개월의 매출 추이를 위 표를 통해 분석해봤을 때,\n",
    "총매출은 9월에서 10월이 될 때 크게 오르고 10월에서 11월이 될 때 감소 한 뒤, 11월부터 2월까지는 꾸준히 상승하였습니다.\n",
    "그리고 목표 매출은 9월부터 2월까지 꾸준히 20만원 이상 씩 올리고 있습니다."
   ]
  },
  {
   "cell_type": "markdown",
   "id": "5d47294b-78a0-4252-8e47-e47ad21dff13",
   "metadata": {},
   "source": [
    "# 2.A회사의 비용에서 어떤 패턴을 찾을 수 있나요?"
   ]
  },
  {
   "cell_type": "markdown",
   "id": "d8a55f45-3f2d-4c5c-9ed8-4af0b3d313d4",
   "metadata": {},
   "source": [
    "위 표를 통해,\n",
    "A 회사는 광고 비용을 줄이고, 소셜네트워크 비용을 계속해서 늘리는 패턴을 보이고 있습니다.\n",
    "또한, 광고비용과 소셜네트워크의 비용의 합은 과거 6개월 간 모두 $1,056,000로 동일하다는 것을 알 수 있습니다."
   ]
  },
  {
   "cell_type": "markdown",
   "id": "e9b830cb-aec0-46a9-bd74-3fd163c67ac3",
   "metadata": {},
   "source": [
    "# 3.목표 매출과 비교해서 총 매출 수치는 어떠한가요?"
   ]
  },
  {
   "cell_type": "markdown",
   "id": "60ddd202-6884-4aad-9ec5-bb2948eda6c5",
   "metadata": {},
   "source": [
    "과거 6개월 중 첫번째인 9월에는 목표 매출과 총 매출이 $5,280,000 으로 동일합니다.\n",
    "10월부터는 목표 매출은 꾸준히 올리고 있습니다. \n",
    "총 매출은 10월~11월에 잠시 떨어졌으나, 11월 부터는 꾸준히 증가하고 있습니다.\n",
    "하지만, 목표 매출에 비해서 총 매출이 목표 매출에 점점 도달하지 못하고 있습니다."
   ]
  },
  {
   "cell_type": "markdown",
   "id": "276e303c-6d0e-4291-a87c-f0df65d05f4c",
   "metadata": {},
   "source": [
    "# 4.단가는 어떻게 되고 있죠? 왜 계속 내려가고 있는걸까요?"
   ]
  },
  {
   "attachments": {},
   "cell_type": "markdown",
   "id": "40002ea7-2df6-4fc7-b973-c141208d896f",
   "metadata": {},
   "source": [
    "9월~ 11월까지는 $단가 : $2.00 인 반면, 12월부터는 $단가 : $1.90 으로 $0.10이 내려간 것이 확인됩니다. 이유로는 제품의 1온스별 단가는 총매출과 총 판매량에 의해 결정됩니다. 그런데 총매출을 월별로 증가하고 있지만, 총 판매량도 증가하고 있는데 이로 인해 제품은 더 많이 판매하면서 총 매출이 늘어나고 있지만, 제품의 가격은 동일한 가격으로 유지되고 있기에 단가가 감소하고 있다고 봅니다."
   ]
  },
  {
   "cell_type": "markdown",
   "id": "f891afeb-81cc-4b61-8bef-377cc1a7dbe5",
   "metadata": {},
   "source": [
    "# A회사 대표이사 의견\n",
    "1) 매출을 어느 정도까지 올리고 싶습니까?\n",
    "\n",
    "- 표에 나온것 처럼 우리가 목표로 했던 매출까지는 올리고 싶습니다.\n",
    "\n",
    "- 우리 회사의 모든 예산은 이 목표를 기준으로 만들어져 있으므로 목표를 달성하지 못한다면 문제가 생김\n",
    "\n",
    "2) 어떻게 대처하면 좋을까요?\n",
    "\n",
    "- 그것을 생각하는것은 여러분의 일입니다. 단 저희는 사람들이 더 많이 구매 할 수 있도록 전략을 세울 생각입니다. 여기서의 '사람들이란' 10대 (11~19세)의 여성입니다. 마케팅이나 다른 여러가지를 실행해 가면서 매출을 올리게 되겠지요. 여러분은 데이터 담당자입니다. 생각해주시기 바랍니다.\n",
    "\n",
    "3) 얼마 정도의 매출 증가가 실현 가능하다고 생각하시나요? 목표 매출은 적절한가요?\n",
    "\n",
    "- 10대의 여성은 돈을 가지고 있습니다. 아이를 돌보면서 받는 수입이나 부모님께 받는 용돈 등이 있지요. 그녀들에게 해당 제품을 판매하는데 무리가 없다고 생각합니다.\n",
    "\n",
    "4) 경쟁사의 매출은 어떻습니까?\n",
    "\n",
    "- 구체적인 숫자는 모릅니다만, 우리 회사를 크게 앞지르고 있다는 인상을 받고 있습니다. 그들은 보습제의 총 수익이 우리보다 50%에서 100% 정도 앞서고 있습니다.\n",
    "\n",
    "5) 광고비나 소셜네트워크 마케팅의 예산은 어떻게 되어 있습니까?\n",
    "\n",
    "- 새로운 방법을 시험해보고 있습니다. 총 예산은 첫달 수입의 20%입니다. 이전에는 이 모든것을 광고에 사용하고 있었습니다만, 소셜네트워크로 비중을 옮겨가고 있는 중입니다. 광고비를 소셜 네트워크에 투자 하지 않았을 경우에 벌어질 일을 생각하니 몸서리 쳐지는 군요."
   ]
  },
  {
   "cell_type": "markdown",
   "id": "2978a10b-a9b8-44dc-bacd-cff8b998fee7",
   "metadata": {},
   "source": [
    "# 5.A회사의 대표이사는 데이터분석을 통해 매출을 올릴수 있도록 도움을 받고 싶어 합니다. 데이터를 분석할때 여러분은 무엇을 합니까?"
   ]
  },
  {
   "attachments": {},
   "cell_type": "markdown",
   "id": "d657b0a3-3d1c-4795-bcf2-202d5a92f12d",
   "metadata": {},
   "source": [
    "먼저 과거 매출의 추이를 분석하면서 월별 패턴을 알아봅니다. 그리고 실 매출과 목표 매출간 차이를 계산해보면서 그간 달성률이 어떠하며 변화하게 된 원인을 파악합니다. 매출을 올리기 위하여 했던 광고 및 마케팅의 월별 비용을 분석하면서 매출과의 관계를 조사 및 분석해 다른 전략을 구상해봅니다. 마지막으로 제품의 1온스별 단가의 변화를 분석해보며 가격의 조정으로 인하여 매출의 변화에 어떤 영향을 미쳤는지 알아봅니다.\n"
   ]
  },
  {
   "cell_type": "code",
   "execution_count": null,
   "id": "c6e78ee7-043c-4c44-8710-a8d121b1ddbe",
   "metadata": {},
   "outputs": [],
   "source": []
  }
 ],
 "metadata": {
  "kernelspec": {
   "display_name": "Python 3 (ipykernel)",
   "language": "python",
   "name": "python3"
  },
  "language_info": {
   "codemirror_mode": {
    "name": "ipython",
    "version": 3
   },
   "file_extension": ".py",
   "mimetype": "text/x-python",
   "name": "python",
   "nbconvert_exporter": "python",
   "pygments_lexer": "ipython3",
   "version": "3.10.12"
  }
 },
 "nbformat": 4,
 "nbformat_minor": 5
}
